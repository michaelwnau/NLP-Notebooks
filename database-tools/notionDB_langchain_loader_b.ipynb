{
  "nbformat": 4,
  "nbformat_minor": 0,
  "metadata": {
    "colab": {
      "private_outputs": true,
      "provenance": []
    },
    "kernelspec": {
      "name": "python3",
      "display_name": "Python 3"
    },
    "language_info": {
      "name": "python"
    }
  },
  "cells": [
    {
      "cell_type": "code",
      "execution_count": null,
      "metadata": {
        "id": "7mpOaXah7kGQ"
      },
      "outputs": [],
      "source": [
        "!pip install langchain langchain-openai requests\n",
        "import requests\n",
        "from langchain_openai import OpenAI\n",
        "from langchain_community.document_loaders import NotionDirectoryLoader\n",
        "from langchain_community.document_loaders import NotionDBLoader"
      ]
    },
    {
      "cell_type": "code",
      "source": [
        "from getpass import getpass\n",
        "OPENAI_KEY = getpass()\n",
        "NOTION_TOKEN = getpass()\n",
        "DATABASE_ID = getpass()"
      ],
      "metadata": {
        "id": "pkhfD30R8N18"
      },
      "execution_count": null,
      "outputs": []
    },
    {
      "cell_type": "code",
      "source": [
        "try:\n",
        "    loader = NotionDBLoader(\n",
        "        integration_token=NOTION_TOKEN,\n",
        "        database_id=DATABASE_ID,\n",
        "        request_timeout_sec=30,  # optional, defaults to 10\n",
        "    )\n",
        "    docs = loader.load()\n",
        "except requests.exceptions.HTTPError as e:\n",
        "    if e.response.status_code == 404:\n",
        "        print(\"Error: Notion database not found. Please check the DATABASE_ID.\")\n",
        "    else:\n",
        "        raise e"
      ],
      "metadata": {
        "id": "8jr0PBqb_0xG"
      },
      "execution_count": null,
      "outputs": []
    },
    {
      "cell_type": "code",
      "source": [
        "loader = NotionDBLoader(\n",
        "    integration_token=NOTION_TOKEN,\n",
        "    database_id=DATABASE_ID,\n",
        "    request_timeout_sec=30,  # optional, defaults to 10\n",
        ")"
      ],
      "metadata": {
        "id": "Txbn80wp7y7w"
      },
      "execution_count": null,
      "outputs": []
    },
    {
      "cell_type": "code",
      "source": [
        "docs = loader.load()"
      ],
      "metadata": {
        "id": "TOxFaOvN-YS-"
      },
      "execution_count": null,
      "outputs": []
    },
    {
      "cell_type": "code",
      "source": [
        "print(docs)"
      ],
      "metadata": {
        "id": "a7v8jAYV-Zbw"
      },
      "execution_count": null,
      "outputs": []
    }
  ]
}