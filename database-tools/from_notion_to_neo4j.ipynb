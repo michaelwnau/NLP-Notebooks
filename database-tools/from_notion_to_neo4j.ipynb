{
  "cells": [
    {
      "cell_type": "markdown",
      "metadata": {
        "id": "view-in-github",
        "colab_type": "text"
      },
      "source": [
        "<a href=\"https://colab.research.google.com/github/michaelwnau/ai-academy-machine-learning-2023/blob/main/from_notion_to_neo4j.ipynb\" target=\"_parent\"><img src=\"https://colab.research.google.com/assets/colab-badge.svg\" alt=\"Open In Colab\"/></a>"
      ]
    },
    {
      "cell_type": "code",
      "source": [
        "!pip install neo4j"
      ],
      "metadata": {
        "id": "edNexttBRESM"
      },
      "execution_count": null,
      "outputs": []
    },
    {
      "cell_type": "code",
      "execution_count": null,
      "metadata": {
        "id": "eNxkTquUPktg"
      },
      "outputs": [],
      "source": [
        "import json\n",
        "import requests\n",
        "import traceback\n",
        "import time\n",
        "from neo4j import GraphDatabase\n",
        "import logging\n",
        "from neo4j.exceptions import ServiceUnavailable"
      ]
    },
    {
      "cell_type": "code",
      "execution_count": null,
      "metadata": {
        "id": "KiF_Y6DZPkti"
      },
      "outputs": [],
      "source": [
        "# Notion credentials\n",
        "token = '<your token>'\n",
        "database_id = '<your database id>'\n",
        "\n",
        "headers = {\n",
        "            \"Authorization\": f\"Bearer {token}\",\n",
        "            \"Notion-Version\": \"2021-08-16\"\n",
        "        }\n",
        "\n",
        "# Neo4j credentials\n",
        "uri = \"bolt://<your neo4j uri>\"\n",
        "user = \"<your neo4j user>\"\n",
        "password = \"<your neo4j password>\"\n",
        "\n"
      ]
    },
    {
      "cell_type": "code",
      "execution_count": null,
      "metadata": {
        "id": "9ouuXtC3Pktj"
      },
      "outputs": [],
      "source": [
        "# Get a list of all pages from a Notion database\n",
        "def get_list_of_pages(database_id):\n",
        "    url = f'https://api.notion.com/v1/databases/{database_id}/query'\n",
        "\n",
        "    r = requests.post(url, headers=headers)\n",
        "\n",
        "    result_dict = r.json()\n",
        "    pages = result_dict['results']\n",
        "    has_more = result_dict['has_more']\n",
        "\n",
        "    while has_more:\n",
        "        r = requests.post(url, headers=headers, json={\n",
        "            \"start_cursor\": result_dict['next_cursor']})\n",
        "        result_dict = r.json()\n",
        "        pages += result_dict['results']\n",
        "        has_more = result_dict['has_more']\n",
        "\n",
        "    return pages\n"
      ]
    },
    {
      "cell_type": "code",
      "execution_count": null,
      "metadata": {
        "id": "2y7ijabiPktk"
      },
      "outputs": [],
      "source": [
        "# It can take a while to get all the pages\n",
        "\n",
        "list_result = get_list_of_pages(database_id)"
      ]
    },
    {
      "cell_type": "code",
      "source": [
        "# Notion has different names for block inside a page\n",
        "def get_all_values_for_key(input: dict, key: any) -> list:\n",
        "    out = []\n",
        "\n",
        "    def flatten(x):\n",
        "        if type(x) is dict:\n",
        "            for k in x:\n",
        "                if k == key:\n",
        "                    out.append(x[k])\n",
        "                flatten(x[k])\n",
        "        elif type(x) is list:\n",
        "            for a in x:\n",
        "                flatten(a)\n",
        "    flatten(input)\n",
        "    return out"
      ],
      "metadata": {
        "id": "aEb1fS8hPp9Y"
      },
      "execution_count": null,
      "outputs": []
    },
    {
      "cell_type": "markdown",
      "metadata": {
        "id": "Q8-tQ1lOPktk"
      },
      "source": [
        "In Notion, you can add a link to another page in two ways: use @ and add a link like mention to another page, or create a new page like a subpage. If you would like, create both types of links in Neo4j; just set `mention=True` and `chield=True`."
      ]
    },
    {
      "cell_type": "code",
      "execution_count": null,
      "metadata": {
        "id": "kNukjeWcPktl"
      },
      "outputs": [],
      "source": [
        "# Get all mantion links from bloks\n",
        "def get_mention_id(page_id, mention=True, child=False):\n",
        "    block_url = f'https://api.notion.com/v1/blocks/{page_id}/children'\n",
        "\n",
        "    r = requests.get(block_url, headers=headers)\n",
        "    ids = {'mention_id': [], 'children_id': []}\n",
        "    all_mentions = get_all_values_for_key(r.json(), 'mention')\n",
        "\n",
        "    try:\n",
        "        for block in r.json()['results']:\n",
        "\n",
        "            if block['has_children'] and block['type'] == 'child_page':\n",
        "                ids['children_id'].append(block['id'])\n",
        "\n",
        "        for m in all_mentions:\n",
        "            if m['type'] == 'page':\n",
        "                ids['mention_id'].append(m['page']['id'])\n",
        "\n",
        "\n",
        "    except Exception as e:\n",
        "        logging.error(e)\n",
        "\n",
        "    return ids\n"
      ]
    },
    {
      "cell_type": "code",
      "execution_count": null,
      "metadata": {
        "id": "84zN4fBIPktm"
      },
      "outputs": [],
      "source": [
        "# Get note name by id\n",
        "def get_note(note_id):\n",
        "    page_url = f'https://api.notion.com/v1/pages/{note_id}'\n",
        "    r = requests.get(page_url, headers=headers)\n",
        "    try:\n",
        "        name = r.json()['properties']['Name']['title'][0]['plain_text']\n",
        "\n",
        "    # I don't know why, but the retrieve a page properties has different structure\n",
        "    except KeyError:\n",
        "        try:\n",
        "            name = r.json()['properties']['title']['title'][0]['plain_text']\n",
        "        except:\n",
        "            name = 'Unknown'\n",
        "    except Exception as e:\n",
        "        logging.error(f'{e}, {note_id}')\n",
        "        name = 'Unknown'\n",
        "\n",
        "    note_name = name\n",
        "\n",
        "    note_id = note_id\n",
        "    try:\n",
        "        note_url = r.json()['url']\n",
        "    except:\n",
        "        note_url = 'Unknown'\n",
        "    mentions = get_mention_id(note_id, child=True)\n",
        "\n",
        "    note = {'name': note_name, 'id': note_id, 'url': note_url, 'mention_id': mentions['mention_id'], 'children_id': mentions['children_id']}\n",
        "    return note\n"
      ]
    },
    {
      "cell_type": "code",
      "execution_count": null,
      "metadata": {
        "id": "b3E0DcoyPktm"
      },
      "outputs": [],
      "source": [
        "# Gather info from Notion results\n",
        "\n",
        "def gather_info(list_result):\n",
        "    notes = []\n",
        "    for i in list_result:\n",
        "        try:\n",
        "            note_id = i['id']\n",
        "            note_name = i['properties']['Name']['title'][0]['plain_text']\n",
        "            note_url = i['url']\n",
        "            mentions = get_mention_id(note_id, mention=True, child=True)\n",
        "            notes.append({'id': note_id,\n",
        "                        'name': note_name,\n",
        "                        'url': note_url,\n",
        "                        'mention_id': mentions['mention_id'],\n",
        "                        'children_id': mentions['children_id'],\n",
        "                        })\n",
        "        except Exception as exc:\n",
        "            # Simetimes Notion limits work\n",
        "            logging.error(f'{exc}, {i}')\n",
        "            time.sleep(30)\n",
        "            continue\n",
        "    return notes\n"
      ]
    },
    {
      "cell_type": "code",
      "execution_count": null,
      "metadata": {
        "id": "BwYMQgJPPktn"
      },
      "outputs": [],
      "source": [
        "notes = gather_info(list_result)"
      ]
    },
    {
      "cell_type": "code",
      "execution_count": null,
      "metadata": {
        "id": "bVt53iE5Pktn"
      },
      "outputs": [],
      "source": [
        "class Neo:\n",
        "\n",
        "    def __init__(self, uri, user, password):\n",
        "        self.driver = GraphDatabase.driver(uri, auth=(user, password))\n",
        "\n",
        "    def close(self):\n",
        "        self.driver.close()\n",
        "\n",
        "    def create_note(self, note):\n",
        "        with self.driver.session() as session:\n",
        "            result = session.write_transaction(\n",
        "                self._create_and_return_note, note)\n",
        "            for row in result:\n",
        "                print(\"Created note: {row}\".format(row=row))\n",
        "            return result\n",
        "\n",
        "    @staticmethod\n",
        "    def _create_and_return_note(tx, note):\n",
        "        query = (\n",
        "            \"CREATE (n:Note {notion_id: $notion_id, name: $name, url: $url}) \"\n",
        "        )\n",
        "        result = tx.run(\n",
        "            query, notion_id=note['id'], name=note['name'], url=note['url'])\n",
        "        return result\n",
        "\n",
        "    def create_link(self, note1_id, note2_id, link_type):\n",
        "        with self.driver.session() as session:\n",
        "            result = session.write_transaction(\n",
        "                self._create_link, note1_id, note2_id, link_type)\n",
        "            for row in result:\n",
        "                print(\"Created link between: {n1}, {n2}\".format(\n",
        "                    n1=row['n1'], n2=row['n2']))\n",
        "\n",
        "    @staticmethod\n",
        "    def _create_link(tx, note1_id, note2_id, link_type):\n",
        "        # Labels can't be parameterized in Cypher. See this issue for details: https://github.com/neo4j/neo4j/issues/4334\n",
        "        query = (\n",
        "            \"MATCH (n1:Note { notion_id: $note1_id }), (n2:Note { notion_id: $note2_id }) \"\n",
        "            \"CREATE (n1)-\" f\"[:{link_type}]\" + \"->(n2) \"\n",
        "        )\n",
        "        result = tx.run(query, note1_id=note1_id, note2_id=note2_id)\n",
        "        try:\n",
        "            return [{\"n1\": row[\"n1\"][\"name\"], \"n2\": row[\"name\"]} for row in result]\n",
        "        except ServiceUnavailable as exception:\n",
        "            logging.error(\"{query} raised an error: \\n {exception}\".format(\n",
        "                query=query, exception=exception))\n",
        "            raise\n",
        "\n",
        "    def find_note(self, note_id):\n",
        "        with self.driver.session() as session:\n",
        "            result = session.read_transaction(\n",
        "                self._find_and_return_note, note_id)\n",
        "            for row in result:\n",
        "                print(\"Found note: {row}\".format(row=row))\n",
        "            return result\n",
        "\n",
        "    @staticmethod\n",
        "    def _find_and_return_note(tx, note_id):\n",
        "        query = (\n",
        "            \"MATCH (n:Note) \"\n",
        "            \"WHERE n.notion_id = $note_id \"\n",
        "            \"RETURN n.notion_id AS notion_id, n.name AS name\"\n",
        "        )\n",
        "        result = tx.run(query, note_id=note_id)\n",
        "        return [row[\"name\"] for row in result]\n",
        "\n",
        "    def count_links(self, note1_id, note2_id, link_type):\n",
        "        with self.driver.session() as session:\n",
        "            result = session.read_transaction(\n",
        "                self._count_links, note1_id, note2_id, link_type)\n",
        "            return result\n",
        "\n",
        "    @staticmethod\n",
        "    def _count_links(tx, note1_id, note2_id, link_type):\n",
        "        # Labels can't be parameterized in Cypher. See this issue for details: https://github.com/neo4j/neo4j/issues/4334\n",
        "        query = (\n",
        "            \"MATCH (n1:Note { notion_id: $note1_id })-\" + f\"[:{link_type}]\" + \"->(n2:Note { notion_id: $note2_id }) \"\n",
        "            \"RETURN count(*) AS count\"\n",
        "        )\n",
        "        result = tx.run(query, note1_id=note1_id, note2_id=note2_id, link_type=link_type)\n",
        "        count = result.single()['count']\n",
        "        return count"
      ]
    },
    {
      "cell_type": "code",
      "execution_count": null,
      "metadata": {
        "id": "XCgN-N5QPkto"
      },
      "outputs": [],
      "source": [
        "# Find Note by id, else create and add links to mentions and children\n",
        "\n",
        "def find_and_link(neo, id, parent_id, link_type):\n",
        "\n",
        "    if not neo.find_note(id):\n",
        "        note = get_note(id)\n",
        "        neo.create_note(note)\n",
        "\n",
        "        for m in note['mention_id']:\n",
        "            find_and_link(neo, m, note['id'], 'MENTION')\n",
        "\n",
        "        for c in note['children_id']:\n",
        "            find_and_link(neo, c, note['id'], 'CHILD')\n",
        "\n",
        "    # Create link if not exists\n",
        "    if neo.count_links(parent_id, id, link_type=link_type) == 0:\n",
        "            neo.create_link(parent_id, id, link_type=link_type)\n",
        ""
      ]
    },
    {
      "cell_type": "code",
      "execution_count": null,
      "metadata": {
        "id": "SSIpIqjYPktp"
      },
      "outputs": [],
      "source": [
        "# Add notes and links to database\n",
        "\n",
        "neo = Neo(uri, user, password)\n",
        "\n",
        "for n in notes:\n",
        "\n",
        "    if not neo.find_note(n['id']):\n",
        "        neo.create_note(n)\n",
        "\n",
        "    for m in n['mention_id']:\n",
        "        find_and_link(neo, m, n['id'], 'MENTION')\n",
        "\n",
        "    for c in n['children_id']:\n",
        "        find_and_link(neo, c, n['id'], 'CHILD')\n",
        "\n",
        "\n",
        "neo.close()\n"
      ]
    }
  ],
  "metadata": {
    "language_info": {
      "name": "python"
    },
    "orig_nbformat": 4,
    "colab": {
      "provenance": [],
      "include_colab_link": true
    }
  },
  "nbformat": 4,
  "nbformat_minor": 0
}