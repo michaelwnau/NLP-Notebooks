{
  "nbformat": 4,
  "nbformat_minor": 0,
  "metadata": {
    "colab": {
      "private_outputs": true,
      "provenance": []
    },
    "kernelspec": {
      "name": "python3",
      "display_name": "Python 3"
    },
    "language_info": {
      "name": "python"
    }
  },
  "cells": [
    {
      "cell_type": "code",
      "execution_count": null,
      "metadata": {
        "id": "iAXUiBj6OwB1"
      },
      "outputs": [],
      "source": [
        "import pandas as pd\n",
        "from sqlalchemy import create_engine"
      ]
    },
    {
      "cell_type": "code",
      "source": [
        "# Repalce the path to excel placeholder with path to file. Use Google drive if running in Colab\n",
        "excel_file = 'path/to/file.xlsx'\n",
        "# Replace sheet name with actual file name\n",
        "sheet_name = 'Sheet1'"
      ],
      "metadata": {
        "id": "3rQ5XfJnO39d"
      },
      "execution_count": null,
      "outputs": []
    },
    {
      "cell_type": "code",
      "source": [
        "# Read the Excel file\n",
        "df = pd.read_excel(excel_file, sheet_name=sheet_name)"
      ],
      "metadata": {
        "id": "yAbVEhxuPJCT"
      },
      "execution_count": null,
      "outputs": []
    },
    {
      "cell_type": "code",
      "source": [
        "# Convert the DataFrame to JSON\n",
        "json_data = df.to_json(orient='records')"
      ],
      "metadata": {
        "id": "jEEFOTsVPOXt"
      },
      "execution_count": null,
      "outputs": []
    },
    {
      "cell_type": "code",
      "source": [
        "# Print out the JSON to see it\n",
        "print(json_data)"
      ],
      "metadata": {
        "id": "bLfmkx7tQGH5"
      },
      "execution_count": null,
      "outputs": []
    },
    {
      "cell_type": "code",
      "source": [
        "# Create an SQL engine instance\n",
        "# Replace 'your_database_uri' with your actual database URI\n",
        "engine = create_engine('your_database_uri')"
      ],
      "metadata": {
        "id": "zYw5TdnXQKxh"
      },
      "execution_count": null,
      "outputs": []
    },
    {
      "cell_type": "code",
      "source": [
        "# Insert the JSON data into the SQL database\n",
        "# Replace 'your_table_name' with your actual table name\n",
        "with engine.connect() as conn:\n",
        "    conn.execute(f\"INSERT INTO your_table_name (json_column) VALUES ('{json_data}')\")"
      ],
      "metadata": {
        "id": "sbHeYTI7QOTq"
      },
      "execution_count": null,
      "outputs": []
    }
  ]
}
