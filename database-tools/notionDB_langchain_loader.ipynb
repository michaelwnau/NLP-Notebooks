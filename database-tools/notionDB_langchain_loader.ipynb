{
  "nbformat": 4,
  "nbformat_minor": 0,
  "metadata": {
    "colab": {
      "private_outputs": true,
      "provenance": [],
      "authorship_tag": "ABX9TyNsoMylTkVm6rfONsjQdSXk",
      "include_colab_link": true
    },
    "kernelspec": {
      "name": "python3",
      "display_name": "Python 3"
    },
    "language_info": {
      "name": "python"
    }
  },
  "cells": [
    {
      "cell_type": "markdown",
      "metadata": {
        "id": "view-in-github",
        "colab_type": "text"
      },
      "source": [
        "<a href=\"https://colab.research.google.com/github/michaelwnau/NLP-Notebooks/blob/main/notionDB_langchain_loader.ipynb\" target=\"_parent\"><img src=\"https://colab.research.google.com/assets/colab-badge.svg\" alt=\"Open In Colab\"/></a>"
      ]
    },
    {
      "cell_type": "code",
      "source": [
        "!pip install langchain openai notion-client langchain_community"
      ],
      "metadata": {
        "id": "VDmujO0g58ed"
      },
      "execution_count": null,
      "outputs": []
    },
    {
      "cell_type": "code",
      "execution_count": null,
      "metadata": {
        "id": "znOHS-0q5cXq"
      },
      "outputs": [],
      "source": [
        "from getpass import getpass\n",
        "\n",
        "NOTION_TOKEN = getpass()\n",
        "DATABASE_ID = getpass()"
      ]
    },
    {
      "cell_type": "code",
      "source": [
        "from langchain_community.document_loaders import NotionDBLoader"
      ],
      "metadata": {
        "id": "EWCrNCmY5sD3"
      },
      "execution_count": null,
      "outputs": []
    },
    {
      "cell_type": "code",
      "source": [
        "loader = NotionDBLoader(\n",
        "    integration_token=NOTION_TOKEN,\n",
        "    database_id=DATABASE_ID,\n",
        "    request_timeout_sec=30,  # optional, defaults to 10\n",
        ")"
      ],
      "metadata": {
        "id": "SZDPxglO6mJz"
      },
      "execution_count": null,
      "outputs": []
    },
    {
      "cell_type": "code",
      "source": [
        "docs = loader.load()"
      ],
      "metadata": {
        "id": "TntwPPqM7NaI"
      },
      "execution_count": null,
      "outputs": []
    },
    {
      "cell_type": "code",
      "source": [
        "print(docs)"
      ],
      "metadata": {
        "id": "-XB_0gRr7P0U"
      },
      "execution_count": null,
      "outputs": []
    }
  ]
}