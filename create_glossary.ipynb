{
  "nbformat": 4,
  "nbformat_minor": 0,
  "metadata": {
    "colab": {
      "private_outputs": true,
      "provenance": [],
      "mount_file_id": "<REPLACE>",
      "authorship_tag": "<REPLACE>",
      "include_colab_link": true
    },
    "kernelspec": {
      "name": "python3",
      "display_name": "Python 3"
    },
    "language_info": {
      "name": "python"
    }
  },
  "cells": [
    {
      "cell_type": "markdown",
      "metadata": {
        "id": "view-in-github",
        "colab_type": "text"
      },
      "source": [
        "<a href=\"https://colab.research.google.com/github/michaelwnau/NLP-Notebooks/blob/main/create_glossary.ipynb\" target=\"_parent\"><img src=\"https://colab.research.google.com/assets/colab-badge.svg\" alt=\"Open In Colab\"/></a>"
      ]
    },
    {
      "cell_type": "code",
      "execution_count": null,
      "metadata": {
        "id": "xxpymJrx5MW9"
      },
      "outputs": [],
      "source": [
        "import pandas as pd"
      ]
    },
    {
      "cell_type": "code",
      "source": [
        "# Create the glossary of terms as a dataframe\n",
        "glossary = pd.DataFrame({\n",
        "    \"Acronym\": [\"ABD\", \"AITC\", \"CFR\", \"CDW\", \"CNH\", \"DBQ\", \"DRO\", \"FEV-1\", \"FEV-1/FVC\", \"FSS\", \"FY\",\n",
        "                \"HBPC\", \"HCD\", \"HDR\", \"IE\", \"ML/kg/min\", \"MCP\", \"MedSAS\", \"NAICS\", \"NDS\", \"NPCD\",\n",
        "                \"PACT Act\", \"PB\", \"PM\", \"PPO\", \"PTF\", \"PWS\", \"RVSR\", \"SAS\", \"SCRSSN\", \"SDVOSB\", \"SDB\",\n",
        "                \"SE\", \"SF\", \"UCD\", \"VA\", \"VBA\", \"VASRD\", \"VHA\", \"VSR\"],\n",
        "    \"Full Form\": [\"Automated Benefits Delivery\", \"Austin Information Technology Center\", \"Code of Federal Regulations\",\n",
        "                  \"Corporate Data Warehouse\", \"Contract Nursing Home\", \"Disability Benefits Questionnaire\",\n",
        "                  \"Decision Review Officer\", \"Forced Expiratory Volume in one second\", \"Ratio of Forced Expiratory Volume in one second to Forced Vital Capacity\",\n",
        "                  \"Federal Supply Schedule\", \"Fiscal Year\", \"Home Based Primary Care\", \"Human-Centered Design\",\n",
        "                  \"Health Data Repository\", \"Inpatient Encounters\", \"Milliliters per kilogram per minute\",\n",
        "                  \"Modern Claims Processing\", \"Medical SAS\", \"North American Industry Classification System\",\n",
        "                  \"National Data Systems\", \"National Patient Care Database\", \"Honoring America's Veterans and Caring for Camp Lejeune Families Act\",\n",
        "                  \"Bed Section\", \"Main\", \"Procedure\", \"Patient Treatment File\", \"Performance Work Statement\",\n",
        "                  \"Rating Veterans Service Representative\", \"Statistical Analysis System\", \"Scrambled Social Security Numbers\",\n",
        "                  \"Service-Disabled Veteran-Owned Small Business\", \"Small Disadvantaged Business\", \"Event\", \"Visit\",\n",
        "                  \"User-Centered Design\", \"Veterans Affairs\", \"Veterans Benefits Administration\", \"VA Schedule for Rating Disabilities\",\n",
        "                  \"Veterans Health Administration\", \"Veterans Service Representative\"],\n",
        "    \"Description\": [\"A department within the VBA focused on automating benefits delivery processes.\",\n",
        "                    \"A facility that hosts various VA data systems and services.\",\n",
        "                    \"The codification of the general and permanent rules and regulations published in the Federal Register by the departments and agencies of the federal government.\",\n",
        "                    \"A VA data repository that stores and manages healthcare data.\",\n",
        "                    \"Nursing homes contracted by the VA to provide care to veterans.\",\n",
        "                    \"Forms used by VA physicians to evaluate a veteran's disability.\",\n",
        "                    \"An officer who reviews VA decisions on claims.\",\n",
        "                    \"A measure used in pulmonary function tests.\",\n",
        "                    \"A measure used in pulmonary function tests.\",\n",
        "                    \"A list of contracts for goods and services used by federal agencies.\",\n",
        "                    \"A year as reckoned for taxing or accounting purposes, often starting in October for the U.S. government.\",\n",
        "                    \"A VA program providing primary care services to veterans in their homes.\",\n",
        "                    \"A design framework that develops solutions by involving the human perspective.\",\n",
        "                    \"A system for storing and managing health data.\",\n",
        "                    \"Data about inpatient care provided during a hospital stay.\",\n",
        "                    \"A measure of exercise capacity used in medical tests.\",\n",
        "                    \"A program focused on improving VA claims processing through automation and data analytics.\",\n",
        "                    \"Data sets used for analyzing healthcare services provided by the VA.\",\n",
        "                    \"A system used by federal statistical agencies to classify business establishments.\",\n",
        "                    \"An office within the VA responsible for managing data systems.\",\n",
        "                    \"A former database for managing patient care data within the VA.\",\n",
        "                    \"A law expanding healthcare and benefits for veterans exposed to toxic substances.\",\n",
        "                    \"Data related to different treating specialties in a hospital.\",\n",
        "                    \"Main data related to inpatient treatment episodes.\",\n",
        "                    \"Data related to medical procedures performed during an inpatient stay.\",\n",
        "                    \"A repository for inpatient care data received by veterans at VA medical centers.\",\n",
        "                    \"A document outlining the scope of work, deliverables, and performance standards for a contract.\",\n",
        "                    \"A representative who rates the severity of veterans' disabilities for claims purposes.\",\n",
        "                    \"A software suite used for data management and analysis.\",\n",
        "                    \"An anonymized version of Social Security Numbers used for data privacy.\",\n",
        "                    \"A small business owned and controlled by service-disabled veterans.\",\n",
        "                    \"A small business that is at least 51% owned by one or more individuals who are socially and economically disadvantaged.\",\n",
        "                    \"Data related to outpatient events and encounters.\",\n",
        "                    \"Data related to outpatient visits and services provided.\",\n",
        "                    \"A design approach focusing on the needs, wants, and limitations of end-users.\",\n",
        "                    \"A U.S. government department providing services and benefits to veterans.\",\n",
        "                    \"A component of the VA that administers benefits programs for veterans.\",\n",
        "                    \"The system used by the VA to evaluate the degree of disability for veterans.\",\n",
        "                    \"The component of the VA that provides healthcare services to veterans.\",\n",
        "                    \"A representative who assists veterans with their claims for benefits.\"]\n",
        "})"
      ],
      "metadata": {
        "id": "4S1HRGjo5R2U"
      },
      "execution_count": null,
      "outputs": []
    },
    {
      "cell_type": "code",
      "source": [
        "# Save the dataframe to a .docx file\n",
        "file_path = '/PATH/TO/DRIVE/FOLDER/<fileName>.docx'\n",
        "glossary.to_markdown(file_path, index=False)\n",
        "\n",
        "file_path"
      ],
      "metadata": {
        "id": "X42CFkS45XgK"
      },
      "execution_count": null,
      "outputs": []
    }
  ]
}
