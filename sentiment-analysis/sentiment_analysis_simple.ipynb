{
  "nbformat": 4,
  "nbformat_minor": 0,
  "metadata": {
    "colab": {
      "private_outputs": true,
      "provenance": [],
      "mount_file_id": "1QKncTMQ12BX314Or0FMwT8CQ3xPMlv2l",
      "authorship_tag": "ABX9TyMBxycQi0APxuDMavfzu9Iw",
      "include_colab_link": true
    },
    "kernelspec": {
      "name": "python3",
      "display_name": "Python 3"
    },
    "language_info": {
      "name": "python"
    }
  },
  "cells": [
    {
      "cell_type": "markdown",
      "metadata": {
        "id": "view-in-github",
        "colab_type": "text"
      },
      "source": [
        "<a href=\"https://colab.research.google.com/github/michaelwnau/NLP-Notebooks/blob/main/sentiment_analysis_simple.ipynb\" target=\"_parent\"><img src=\"https://colab.research.google.com/assets/colab-badge.svg\" alt=\"Open In Colab\"/></a>"
      ]
    },
    {
      "cell_type": "code",
      "execution_count": null,
      "metadata": {
        "id": "YFH0cplSVx3N"
      },
      "outputs": [],
      "source": [
        "!pip install textblob\n",
        "from textblob import TextBlob\n",
        "\n",
        "# Define a sample text from a section of the document\n",
        "# The sample text can be replaced with anything similar in length\n",
        "sample_text = \"\"\"\n",
        "The Contractor shall offer support for Human Centered Design (HCD) activities, ensuring that technical solutions are aligned with user needs and expectations.\n",
        "\"\"\"\n",
        "\n",
        "# Perform sentiment analysis on the sample text\n",
        "blob = TextBlob(sample_text)\n",
        "sentiment = blob.sentiment\n",
        "\n",
        "# Output the results\n",
        "sentiment_analysis_result = {\n",
        "    \"Polarity\": sentiment.polarity,  # How positive or negative the text is\n",
        "    \"Subjectivity\": sentiment.subjectivity  # How subjective or objective the text is\n",
        "}\n",
        "\n",
        "sentiment_analysis_result\n"
      ]
    },
    {
      "cell_type": "code",
      "source": [
        "file_path = '/PATH/to/file/in/drive/EXAMPLE.txt'"
      ],
      "metadata": {
        "id": "U-kyZZGE1O-K"
      },
      "execution_count": null,
      "outputs": []
    },
    {
      "cell_type": "code",
      "source": [
        "# Open and read the file\n",
        "with open(file_path, 'r') as file:\n",
        "    document_text = file.read()\n",
        "\n",
        "# Display the first 500 characters to verify\n",
        "print(document_text[:500])"
      ],
      "metadata": {
        "id": "6awcjtPo1WrF"
      },
      "execution_count": null,
      "outputs": []
    },
    {
      "cell_type": "code",
      "source": [
        "# Perform sentiment analysis\n",
        "blob = TextBlob(document_text)\n",
        "sentiment = blob.sentiment\n",
        "\n",
        "# Display the sentiment analysis results\n",
        "print(f\"Polarity: {sentiment.polarity}, Subjectivity: {sentiment.subjectivity}\")"
      ],
      "metadata": {
        "id": "dNryrnVa1Zuj"
      },
      "execution_count": null,
      "outputs": []
    }
  ]
}