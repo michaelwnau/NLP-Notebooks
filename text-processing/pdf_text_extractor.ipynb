{
  "nbformat": 4,
  "nbformat_minor": 0,
  "metadata": {
    "colab": {
      "provenance": []
    },
    "kernelspec": {
      "name": "python3",
      "display_name": "Python 3"
    },
    "language_info": {
      "name": "python"
    }
  },
  "cells": [
    {
      "cell_type": "code",
      "source": [
        "!pip install fitz\n",
        "!pip install PyMuPDF"
      ],
      "metadata": {
        "id": "IlUsRwH9brpH"
      },
      "execution_count": null,
      "outputs": []
    },
    {
      "cell_type": "code",
      "execution_count": 7,
      "metadata": {
        "id": "8b9qZZb3bIqO"
      },
      "outputs": [],
      "source": [
        "import fitz  # PyMuPDF\n",
        "import os\n",
        "\n",
        "'''\n",
        "If this notebook is run in Colab, use Drive for file storage.\n",
        "'''\n",
        "pdf_path = '/YOUR/PDF' # Change to path of pdf\n",
        "output_folder = '/OUTPUT/LOCATION'  # Change to path of output folder\n",
        "text_file_path = os.path.join(output_folder, 'NAME-YOUR-FILE.txt') # Add name to new file\n"
      ]
    },
    {
      "cell_type": "code",
      "source": [
        "# Create the output folder if it doesn't exist\n",
        "if not os.path.exists(output_folder):\n",
        "    os.makedirs(output_folder)\n",
        "\n",
        "pdf_document = fitz.open(pdf_path)\n",
        "\n",
        "with open(text_file_path, 'w') as text_file:\n",
        "    for page_num in range(len(pdf_document)):\n",
        "        page = pdf_document.load_page(page_num)\n",
        "        text_file.write(page.get_text())\n",
        "\n",
        "\n"
      ],
      "metadata": {
        "id": "SnIwbwNNjwrn"
      },
      "execution_count": 8,
      "outputs": []
    },
    {
      "cell_type": "code",
      "source": [
        "print(f\"Text extracted and saved to {text_file_path}\")"
      ],
      "metadata": {
        "id": "EcnR2RHZj3Fu"
      },
      "execution_count": null,
      "outputs": []
    }
  ]
}